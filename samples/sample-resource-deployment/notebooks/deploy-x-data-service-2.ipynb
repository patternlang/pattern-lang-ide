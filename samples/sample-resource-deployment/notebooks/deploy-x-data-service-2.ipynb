{
    "metadata": {
        "kernelspec": {
            "name": "python3",
            "display_name": "Python 3"
        },
        "language_info": {
            "name": "python",
            "version": "3.7.3",
            "mimetype": "text/x-python",
            "codemirror_mode": {
                "name": "ipython",
                "version": 3
            },
            "pygments_lexer": "ipython3",
            "nbconvert_exporter": "python",
            "file_extension": ".py"
        }
    },
    "nbformat_minor": 2,
    "nbformat": 4,
    "cells": [
        {
            "cell_type": "markdown",
            "source": [
                "Deploy x data service"
            ],
            "metadata": {
                "azdata_cell_guid": "23954d96-3932-4a8e-ab73-da605f99b1a4"
            }
        },
        {
            "cell_type": "code",
            "source": [
                "import os;\n",
                "print('Welcome')\n",
                "print(os.environ[\"AZDATA_NB_VAR_TEXT\"])\n",
                "print(os.environ[\"AZDATA_NB_VAR_PASSWORD\"])\n",
                "print(os.environ[\"AZDATA_NB_VAR_NUMBER\"])"
            ],
            "metadata": {
                "azdata_cell_guid": "26fa8bc4-4b8e-4c31-ae11-50484821cea8"
            },
            "outputs": [],
            "execution_count": 2
        }
    ]
}