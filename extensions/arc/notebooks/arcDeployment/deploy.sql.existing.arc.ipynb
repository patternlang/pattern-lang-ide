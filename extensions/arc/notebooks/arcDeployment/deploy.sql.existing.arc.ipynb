{
    "metadata": {
        "kernelspec": {
            "name": "python3",
            "display_name": "Python 3"
        },
        "language_info": {
            "name": "python",
            "version": "3.6.6",
            "mimetype": "text/x-python",
            "codemirror_mode": {
                "name": "ipython",
                "version": 3
            },
            "pygments_lexer": "ipython3",
            "nbconvert_exporter": "python",
            "file_extension": ".py"
        }
    },
    "nbformat_minor": 2,
    "nbformat": 4,
    "cells": [
        {
            "cell_type": "markdown",
            "source": [
                "![Microsoft](https://raw.githubusercontent.com/microsoft/azuredatastudio/main/extensions/arc/images/microsoft-small-logo.png)\n",
                " \n",
                "## Deploy Azure SQL managed instance on an existing Azure Arc data cluster\n",
                " \n",
                "This notebook walks through the process of deploying a <a href=\"https://docs.microsoft.com/azure/sql-database/sql-database-managed-instance\">Azure SQL managed instance</a> on an existing Azure Arc data cluster.\n",
                " \n",
                "* Follow the instructions in the **Prerequisites** cell to install the tools if not already installed.\n",
                "* Make sure you have the target Azure Arc data cluster already created.\n",
                "\n",
                "<span style=\"color:red\"><font size=\"3\">Please press the \"Run All\" button to run the notebook</font></span>"
            ],
            "metadata": {
                "azdata_cell_guid": "e4ed0892-7b5a-4d95-bd0d-a6c3eb0b2c99"
            }
        },
        {
            "cell_type": "markdown",
            "source": [
                "### **Check prerequisites**"
            ],
            "metadata": {
                "azdata_cell_guid": "68531b91-ddce-47d7-a1d8-2ddc3d17f3e7"
            }
        },
        {
            "cell_type": "code",
            "source": [
                "import sys,os,json,subprocess\n",
                "def run_command():\n",
                "    print(\"Executing: \" + cmd)\n",
                "    output = subprocess.run(cmd, stdout=subprocess.PIPE, stderr=subprocess.PIPE, shell=True )\n",
                "    if output.returncode != 0:\n",
                "        print(f'Command: {cmd} failed \\n')\n",
                "        print(f'\\t>>>Error output: {output.stderr.decode(\"utf-8\")}\\n')\n",
                "        sys.exit(f'exit code: {output.returncode}\\n')\n",
                "    print(f'Successfully executed: {cmd}')\n",
                "    print(f'\\t>>>Output: {output.stdout.decode(\"utf-8\")}\\n')\n",
                "    return output.stdout.decode(\"utf-8\")\n",
                "cmd = 'azdata --version'\n",
                "out = run_command()\n",
                ""
            ],
            "metadata": {
                "azdata_cell_guid": "749d8dba-3da8-46e9-ae48-2b38056ab7a2",
                "tags": []
            },
            "outputs": [],
            "execution_count": null
        },
        {
            "cell_type": "markdown",
            "source": [
                "#### **Ensure SQL instance name, username, password, subscription id and resource group name**"
            ],
            "metadata": {
                "azdata_cell_guid": "68ec0760-27d1-4ded-9a9f-89077c40b8bb"
            }
        },
        {
            "cell_type": "code",
            "source": [
                "# Required Values\n",
                "env_var =  \"AZDATA_NB_VAR_SQL_INSTANCE_NAME\" in os.environ\n",
                "if env_var:\n",
                "    mssql_instance_name = os.environ[\"AZDATA_NB_VAR_SQL_INSTANCE_NAME\"]\n",
                "else:\n",
                "    sys.exit(f'environment variable: AZDATA_NB_VAR_SQL_INSTANCE_NAME was not defined. Exiting\\n')\n",
                "env_var = \"AZDATA_NB_VAR_SQL_PASSWORD\" in os.environ\n",
                "if env_var:\n",
                "    mssql_password = os.environ[\"AZDATA_NB_VAR_SQL_PASSWORD\"]\n",
                "else:\n",
                "    sys.exit(f'environment variable: AZDATA_NB_VAR_SQL_PASSWORD was not defined. Exiting\\n')   \n",
                "\n",
                "# Optional Values\n",
                "subscription = os.environ[\"AZDATA_NB_VAR_ARC_SUBSCRIPTION\"] \n",
                "resource_group_name = os.environ[\"AZDATA_NB_VAR_ARC_RESOURCE_GROUP_NAME\"]\n"
            ],
            "metadata": {
                "azdata_cell_guid": "53769960-e1f8-4477-b4cf-3ab1ea34348b",
                "tags": []
            },
            "outputs": [],
            "execution_count": null
        },
        {
            "cell_type": "markdown",
            "source": [
                "### **Installing Managed SQL Instance**"
            ],
            "metadata": {
                "azdata_cell_guid": "90b0e162-2987-463f-9ce6-12dda1267189"
            }
        },
        {
            "cell_type": "code",
            "source": [
                "print (f'Creating Managed SQL Server instance on Azure Arc')\n",
                "\n",
                "os.environ[\"MSSQL_SA_PASSWORD\"] = mssql_password\n",
                "subscription_option = f' -s \"{subscription}\"' if subscription else \"\"\n",
                "resource_group_option = f' -r \"{resource_group_name}\"' if resource_group_name else \"\"\n",
                "cmd = f'azdata sql instance create -n {mssql_instance_name}{subscription_option}{resource_group_option}'\n",
                "out=run_command()"
            ],
            "metadata": {
                "azdata_cell_guid": "4fbaf071-55a1-40bc-be7e-7b9b5547b886"
            },
            "outputs": [],
            "execution_count": null
        }
    ]
}
